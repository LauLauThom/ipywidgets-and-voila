{
 "cells": [
  {
   "cell_type": "markdown",
   "id": "6f1fd8aa",
   "metadata": {},
   "source": [
    "This is another simple notebook demonstrating the use of ipywidgets, this time not using the @widgets.interact decorator but by laying out widgets.  \n",
    "This gives more flexibility to design custom apps, but requires more coding, e.g you need to explicitely display the widgets.\n",
    "\n",
    "Laurent Thomas - 2025"
   ]
  },
  {
   "cell_type": "code",
   "execution_count": 21,
   "id": "31cc244c",
   "metadata": {},
   "outputs": [
    {
     "data": {
      "application/vnd.jupyter.widget-view+json": {
       "model_id": "0adaf9c1fde84d2aa9b5471f168a39c9",
       "version_major": 2,
       "version_minor": 0
      },
      "text/plain": [
       "Text(value='', description='Compute :', placeholder='Enter a mathematical expression')"
      ]
     },
     "metadata": {},
     "output_type": "display_data"
    },
    {
     "data": {
      "application/vnd.jupyter.widget-view+json": {
       "model_id": "8af336dc477c4909bcedcddef69b3854",
       "version_major": 2,
       "version_minor": 0
      },
      "text/plain": [
       "Button(description='Compute now', icon='calculator', style=ButtonStyle())"
      ]
     },
     "metadata": {},
     "output_type": "display_data"
    },
    {
     "data": {
      "application/vnd.jupyter.widget-view+json": {
       "model_id": "2c81c6e8088b4cb69df1950e6bbf607e",
       "version_major": 2,
       "version_minor": 0
      },
      "text/plain": [
       "Output()"
      ]
     },
     "metadata": {},
     "output_type": "display_data"
    }
   ],
   "source": [
    "import ipywidgets as widgets\n",
    "\n",
    "\n",
    "widget_math_formula = widgets.Text(placeholder='Enter a mathematical expression',\n",
    "                                   description='Compute :',\n",
    "                                   disabled=False)\n",
    "\n",
    "def try_computation(button):\n",
    "    \"\"\"\n",
    "    This is the callback function, associated to the button and called when it is clicked.\n",
    "    It tries computing the formula (just a python eval) and print the result in the output widget.\n",
    "\n",
    "    button\n",
    "    ------\n",
    "    If you check the button documentation, the callback function must accept a single argument, which will be populated with a reference to the button clicked.\n",
    "    We dont use it here but it's still required.  \n",
    "    \"\"\"\n",
    "    with output_field:\n",
    "        output_field.clear_output(wait = True) # wait = True, supposed to make refreshing smoother\n",
    "        try:\n",
    "            print(\"Result =\", eval(widget_math_formula.value))\n",
    "        except Exception as e:\n",
    "            print(e)\n",
    "\n",
    "\n",
    "# Create a button and add a callback to it, so when pressed, evaluate the expression\n",
    "button = widgets.Button(description = \"Compute now\", \n",
    "                        icon = \"calculator\", # one can use any font-awesome free icon, how cool is that !\n",
    "                        )\n",
    "\n",
    "button.on_click(try_computation)\n",
    "\n",
    "# We need to explicitely add an output widget to display the result of the computation\n",
    "# just printing it wont work\n",
    "output_field = widgets.Output()\n",
    "\n",
    "# We need to explicitely call display here to show the widgets\n",
    "# a single widget would be displayed without calling display if it is the last object declared in the cell, the the notebook would render it just like for any other python object\n",
    "display(widget_math_formula, button, output_field) # the order matters here, default is top to bottom layout\n",
    "\n"
   ]
  },
  {
   "cell_type": "code",
   "execution_count": null,
   "id": "bc9202d6",
   "metadata": {},
   "outputs": [],
   "source": []
  }
 ],
 "metadata": {
  "kernelspec": {
   "display_name": "base",
   "language": "python",
   "name": "python3"
  },
  "language_info": {
   "codemirror_mode": {
    "name": "ipython",
    "version": 3
   },
   "file_extension": ".py",
   "mimetype": "text/x-python",
   "name": "python",
   "nbconvert_exporter": "python",
   "pygments_lexer": "ipython3",
   "version": "3.12.2"
  }
 },
 "nbformat": 4,
 "nbformat_minor": 5
}
